{
 "cells": [
  {
   "cell_type": "markdown",
   "metadata": {},
   "source": [
    "# Artificial Neural Network - Solving Classification Problems"
   ]
  },
  {
   "cell_type": "markdown",
   "metadata": {},
   "source": [
    "Artificial Neural Networks(ANN) are part of supervised machine learning where we will be having input as well as corresponding output present in our dataset. Our whole aim is to figure out a way of mapping this input to the respective output. ANN can be used for solving both regression and classification problems."
   ]
  },
  {
   "cell_type": "markdown",
   "metadata": {},
   "source": [
    "**1. Importing the required libraries**"
   ]
  },
  {
   "cell_type": "code",
   "execution_count": 20,
   "metadata": {},
   "outputs": [],
   "source": [
    "import pandas as pd\n",
    "import numpy as np\n",
    "import tensorflow as tf"
   ]
  },
  {
   "cell_type": "markdown",
   "metadata": {},
   "source": [
    "**2. Importing the Data set**"
   ]
  },
  {
   "cell_type": "code",
   "execution_count": 21,
   "metadata": {},
   "outputs": [],
   "source": [
    "bank_df = pd.read_csv('bank.csv', delimiter=';')"
   ]
  },
  {
   "cell_type": "code",
   "execution_count": 22,
   "metadata": {},
   "outputs": [
    {
     "data": {
      "text/html": [
       "<div>\n",
       "<style scoped>\n",
       "    .dataframe tbody tr th:only-of-type {\n",
       "        vertical-align: middle;\n",
       "    }\n",
       "\n",
       "    .dataframe tbody tr th {\n",
       "        vertical-align: top;\n",
       "    }\n",
       "\n",
       "    .dataframe thead th {\n",
       "        text-align: right;\n",
       "    }\n",
       "</style>\n",
       "<table border=\"1\" class=\"dataframe\">\n",
       "  <thead>\n",
       "    <tr style=\"text-align: right;\">\n",
       "      <th></th>\n",
       "      <th>age</th>\n",
       "      <th>job</th>\n",
       "      <th>marital</th>\n",
       "      <th>education</th>\n",
       "      <th>default</th>\n",
       "      <th>balance</th>\n",
       "      <th>housing</th>\n",
       "      <th>loan</th>\n",
       "      <th>contact</th>\n",
       "      <th>day</th>\n",
       "      <th>month</th>\n",
       "      <th>duration</th>\n",
       "      <th>campaign</th>\n",
       "      <th>pdays</th>\n",
       "      <th>previous</th>\n",
       "      <th>poutcome</th>\n",
       "      <th>y</th>\n",
       "    </tr>\n",
       "  </thead>\n",
       "  <tbody>\n",
       "    <tr>\n",
       "      <th>0</th>\n",
       "      <td>30</td>\n",
       "      <td>unemployed</td>\n",
       "      <td>married</td>\n",
       "      <td>primary</td>\n",
       "      <td>no</td>\n",
       "      <td>1787</td>\n",
       "      <td>no</td>\n",
       "      <td>no</td>\n",
       "      <td>cellular</td>\n",
       "      <td>19</td>\n",
       "      <td>oct</td>\n",
       "      <td>79</td>\n",
       "      <td>1</td>\n",
       "      <td>-1</td>\n",
       "      <td>0</td>\n",
       "      <td>unknown</td>\n",
       "      <td>no</td>\n",
       "    </tr>\n",
       "    <tr>\n",
       "      <th>1</th>\n",
       "      <td>33</td>\n",
       "      <td>services</td>\n",
       "      <td>married</td>\n",
       "      <td>secondary</td>\n",
       "      <td>no</td>\n",
       "      <td>4789</td>\n",
       "      <td>yes</td>\n",
       "      <td>yes</td>\n",
       "      <td>cellular</td>\n",
       "      <td>11</td>\n",
       "      <td>may</td>\n",
       "      <td>220</td>\n",
       "      <td>1</td>\n",
       "      <td>339</td>\n",
       "      <td>4</td>\n",
       "      <td>failure</td>\n",
       "      <td>no</td>\n",
       "    </tr>\n",
       "    <tr>\n",
       "      <th>2</th>\n",
       "      <td>35</td>\n",
       "      <td>management</td>\n",
       "      <td>single</td>\n",
       "      <td>tertiary</td>\n",
       "      <td>no</td>\n",
       "      <td>1350</td>\n",
       "      <td>yes</td>\n",
       "      <td>no</td>\n",
       "      <td>cellular</td>\n",
       "      <td>16</td>\n",
       "      <td>apr</td>\n",
       "      <td>185</td>\n",
       "      <td>1</td>\n",
       "      <td>330</td>\n",
       "      <td>1</td>\n",
       "      <td>failure</td>\n",
       "      <td>no</td>\n",
       "    </tr>\n",
       "    <tr>\n",
       "      <th>3</th>\n",
       "      <td>30</td>\n",
       "      <td>management</td>\n",
       "      <td>married</td>\n",
       "      <td>tertiary</td>\n",
       "      <td>no</td>\n",
       "      <td>1476</td>\n",
       "      <td>yes</td>\n",
       "      <td>yes</td>\n",
       "      <td>unknown</td>\n",
       "      <td>3</td>\n",
       "      <td>jun</td>\n",
       "      <td>199</td>\n",
       "      <td>4</td>\n",
       "      <td>-1</td>\n",
       "      <td>0</td>\n",
       "      <td>unknown</td>\n",
       "      <td>no</td>\n",
       "    </tr>\n",
       "    <tr>\n",
       "      <th>4</th>\n",
       "      <td>59</td>\n",
       "      <td>blue-collar</td>\n",
       "      <td>married</td>\n",
       "      <td>secondary</td>\n",
       "      <td>no</td>\n",
       "      <td>0</td>\n",
       "      <td>yes</td>\n",
       "      <td>no</td>\n",
       "      <td>unknown</td>\n",
       "      <td>5</td>\n",
       "      <td>may</td>\n",
       "      <td>226</td>\n",
       "      <td>1</td>\n",
       "      <td>-1</td>\n",
       "      <td>0</td>\n",
       "      <td>unknown</td>\n",
       "      <td>no</td>\n",
       "    </tr>\n",
       "  </tbody>\n",
       "</table>\n",
       "</div>"
      ],
      "text/plain": [
       "   age          job  marital  education default  balance housing loan  \\\n",
       "0   30   unemployed  married    primary      no     1787      no   no   \n",
       "1   33     services  married  secondary      no     4789     yes  yes   \n",
       "2   35   management   single   tertiary      no     1350     yes   no   \n",
       "3   30   management  married   tertiary      no     1476     yes  yes   \n",
       "4   59  blue-collar  married  secondary      no        0     yes   no   \n",
       "\n",
       "    contact  day month  duration  campaign  pdays  previous poutcome   y  \n",
       "0  cellular   19   oct        79         1     -1         0  unknown  no  \n",
       "1  cellular   11   may       220         1    339         4  failure  no  \n",
       "2  cellular   16   apr       185         1    330         1  failure  no  \n",
       "3   unknown    3   jun       199         4     -1         0  unknown  no  \n",
       "4   unknown    5   may       226         1     -1         0  unknown  no  "
      ]
     },
     "execution_count": 22,
     "metadata": {},
     "output_type": "execute_result"
    }
   ],
   "source": [
    "bank_df.head()"
   ]
  },
  {
   "cell_type": "code",
   "execution_count": 23,
   "metadata": {},
   "outputs": [
    {
     "data": {
      "text/plain": [
       "(4521, 17)"
      ]
     },
     "execution_count": 23,
     "metadata": {},
     "output_type": "execute_result"
    }
   ],
   "source": [
    "# We have a dataset where we are having 17 dimensions in total and 4521 record\n",
    "bank_df.shape"
   ]
  },
  {
   "cell_type": "markdown",
   "metadata": {},
   "source": [
    "* Here our main goal is to create an artificial neural network that will take into consideration all independent variables(first 16) and based on that will predict if our customer is going to exit the bank or not(Exited is dependent variable here)."
   ]
  },
  {
   "cell_type": "markdown",
   "metadata": {},
   "source": [
    "**4. Generating Matrix of Features for X (Independent variables)**"
   ]
  },
  {
   "cell_type": "code",
   "execution_count": 24,
   "metadata": {},
   "outputs": [],
   "source": [
    "X = bank_df.iloc[:, 0:-1].values"
   ]
  },
  {
   "cell_type": "code",
   "execution_count": 25,
   "metadata": {},
   "outputs": [
    {
     "data": {
      "text/plain": [
       "array([[30, 'unemployed', 'married', ..., -1, 0, 'unknown'],\n",
       "       [33, 'services', 'married', ..., 339, 4, 'failure'],\n",
       "       [35, 'management', 'single', ..., 330, 1, 'failure'],\n",
       "       ...,\n",
       "       [57, 'technician', 'married', ..., -1, 0, 'unknown'],\n",
       "       [28, 'blue-collar', 'married', ..., 211, 3, 'other'],\n",
       "       [44, 'entrepreneur', 'single', ..., 249, 7, 'other']], dtype=object)"
      ]
     },
     "execution_count": 25,
     "metadata": {},
     "output_type": "execute_result"
    }
   ],
   "source": [
    "X"
   ]
  },
  {
   "cell_type": "markdown",
   "metadata": {},
   "source": [
    "**5. Generating Dependent Variable Vector (Y)**"
   ]
  },
  {
   "cell_type": "code",
   "execution_count": 26,
   "metadata": {},
   "outputs": [],
   "source": [
    "Y = bank_df.iloc[:, -1].values"
   ]
  },
  {
   "cell_type": "code",
   "execution_count": 27,
   "metadata": {},
   "outputs": [
    {
     "data": {
      "text/plain": [
       "array(['no', 'no', 'no', ..., 'no', 'no', 'no'], dtype=object)"
      ]
     },
     "execution_count": 27,
     "metadata": {},
     "output_type": "execute_result"
    }
   ],
   "source": [
    "Y"
   ]
  },
  {
   "cell_type": "markdown",
   "metadata": {},
   "source": [
    "* Feature engineering is a phase where we either generate new variables from existing ones or modify existing variables so as to use them in our machine learning model. We need to convert those string values into their numerical equivalent without losing their significance using Encoding."
   ]
  },
  {
   "cell_type": "markdown",
   "metadata": {},
   "source": [
    "**6. Use Label Encoding for categorical variable(Y) to yes and no or 1 and 0**"
   ]
  },
  {
   "cell_type": "code",
   "execution_count": 28,
   "metadata": {},
   "outputs": [],
   "source": [
    "#encoding output variable y: subscribed or not\n",
    "from sklearn.preprocessing import LabelEncoder"
   ]
  },
  {
   "cell_type": "code",
   "execution_count": 29,
   "metadata": {},
   "outputs": [],
   "source": [
    "LE1 = LabelEncoder()\n",
    "Y = np.array(LE1.fit_transform(Y))"
   ]
  },
  {
   "cell_type": "code",
   "execution_count": 30,
   "metadata": {},
   "outputs": [
    {
     "data": {
      "text/plain": [
       "array([0, 0, 0, ..., 0, 0, 0])"
      ]
     },
     "execution_count": 30,
     "metadata": {},
     "output_type": "execute_result"
    }
   ],
   "source": [
    "Y"
   ]
  },
  {
   "cell_type": "markdown",
   "metadata": {},
   "source": [
    "**7. Use Label Encoding for features/categorical variable(X)**"
   ]
  },
  {
   "cell_type": "code",
   "execution_count": 31,
   "metadata": {},
   "outputs": [],
   "source": [
    "#using label encoder for marital status, default, housing, loan, contact and poutcomme\n",
    "X[:,2] = np.array(LE1.fit_transform(X[:,2]))\n",
    "X[:,4] = np.array(LE1.fit_transform(X[:,4]))\n",
    "X[:,6] = np.array(LE1.fit_transform(X[:,6]))\n",
    "X[:,7] = np.array(LE1.fit_transform(X[:,7]))\n",
    "X[:,8] = np.array(LE1.fit_transform(X[:,8]))\n",
    "X[:,15] = np.array(LE1.fit_transform(X[:,15]))"
   ]
  },
  {
   "cell_type": "code",
   "execution_count": 32,
   "metadata": {},
   "outputs": [
    {
     "data": {
      "text/plain": [
       "array([30, 'unemployed', 1, 'primary', 0, 1787, 0, 0, 0, 19, 'oct', 79, 1,\n",
       "       -1, 0, 3], dtype=object)"
      ]
     },
     "execution_count": 32,
     "metadata": {},
     "output_type": "execute_result"
    }
   ],
   "source": [
    "X[0]"
   ]
  },
  {
   "cell_type": "markdown",
   "metadata": {},
   "source": [
    "**8. Using One Hot Encoding to convert job, education and month so that machine learning does not assume higher number is important. Using column Transformer to pick a particular column**"
   ]
  },
  {
   "cell_type": "code",
   "execution_count": 33,
   "metadata": {},
   "outputs": [],
   "source": [
    "from sklearn.compose import ColumnTransformer"
   ]
  },
  {
   "cell_type": "code",
   "execution_count": 43,
   "metadata": {},
   "outputs": [],
   "source": [
    "from sklearn.preprocessing import OneHotEncoder\n",
    "ct = ColumnTransformer(transformers=[('encoder', OneHotEncoder(),[1])], remainder=\"passthrough\")\n",
    "ct = ColumnTransformer(transformers=[('encoder', OneHotEncoder(),[14])], remainder=\"passthrough\")\n",
    "ct = ColumnTransformer(transformers=[('encoder', OneHotEncoder(),[24])], remainder=\"passthrough\")\n",
    "X = np.array(ct.fit_transform(X))"
   ]
  },
  {
   "cell_type": "code",
   "execution_count": 44,
   "metadata": {},
   "outputs": [
    {
     "data": {
      "text/plain": [
       "array([0.0, 0.0, 0.0, 0.0, 0.0, 0.0, 0.0, 0.0, 0.0, 0.0, 1.0, 0.0, 1.0,\n",
       "       0.0, 0.0, 0.0, 0.0, 0.0, 0.0, 0.0, 0.0, 0.0, 0.0, 0.0, 0.0, 0.0,\n",
       "       1.0, 0.0, 30, 1, 0, 1787, 0, 0, 0, 19, 79, 1, -1, 0, 3],\n",
       "      dtype=object)"
      ]
     },
     "execution_count": 44,
     "metadata": {},
     "output_type": "execute_result"
    }
   ],
   "source": [
    "X[0]"
   ]
  },
  {
   "cell_type": "markdown",
   "metadata": {},
   "source": [
    "**9. Splitting dataset into train test**"
   ]
  },
  {
   "cell_type": "code",
   "execution_count": 45,
   "metadata": {},
   "outputs": [],
   "source": [
    "from sklearn.model_selection import train_test_split\n",
    "X_train, X_test, Y_train, Y_test = train_test_split(X, Y, test_size=0.3, random_state=0)"
   ]
  },
  {
   "cell_type": "markdown",
   "metadata": {},
   "source": [
    "**10. Perform Feature Scaling**"
   ]
  },
  {
   "cell_type": "markdown",
   "metadata": {},
   "source": [
    "* Feature scaling: sometimes certain variables can have high values and some low, without scaling the high value variable can dominate and low value variable may be neglected, so feature scaling is done.\n",
    "\n",
    "* Feature scaling before or after split: should be done after splitting into train and test sets, otherwise it might result in information leakage on test set and it neglects the purpose of testing dataset.\n",
    "\n",
    "* Feature scaling can be done using Standardization (everything converted between -3 to +3) and Normalization (-1 to +1)\n",
    "\n",
    "* Use Normalization is used when data is normally distributed\n",
    "* Use Standardization is a universal technique and can be used even if data is not normally distributed"
   ]
  },
  {
   "cell_type": "code",
   "execution_count": 46,
   "metadata": {},
   "outputs": [],
   "source": [
    "from sklearn.preprocessing import StandardScaler"
   ]
  },
  {
   "cell_type": "code",
   "execution_count": 47,
   "metadata": {},
   "outputs": [],
   "source": [
    "sc = StandardScaler()\n",
    "X_train = sc.fit_transform(X_train)\n",
    "X_test = sc.transform(X_test)"
   ]
  },
  {
   "cell_type": "markdown",
   "metadata": {},
   "source": [
    "**11. Initializing Artificial Neural Network**"
   ]
  },
  {
   "cell_type": "code",
   "execution_count": 49,
   "metadata": {},
   "outputs": [],
   "source": [
    "ann = tf.keras.models.Sequential()"
   ]
  },
  {
   "cell_type": "markdown",
   "metadata": {},
   "source": [
    "**12. Creating Hidden Layers**"
   ]
  },
  {
   "cell_type": "code",
   "execution_count": 40,
   "metadata": {},
   "outputs": [],
   "source": [
    "#Create First Hidden Layers\n",
    "ann.add(tf.keras.layers.Dense(units=6,activation='relu'))"
   ]
  },
  {
   "cell_type": "code",
   "execution_count": 99,
   "metadata": {},
   "outputs": [],
   "source": [
    "#Create Second Hidden Layers\n",
    "ann.add(tf.keras.layers.Dense(units=6,activation='relu'))"
   ]
  },
  {
   "cell_type": "markdown",
   "metadata": {},
   "source": [
    "**13. Creating Output Layer**"
   ]
  },
  {
   "cell_type": "code",
   "execution_count": 100,
   "metadata": {},
   "outputs": [],
   "source": [
    "ann.add(tf.keras.layers.Dense(units=1,activation='sigmoid'))"
   ]
  },
  {
   "cell_type": "markdown",
   "metadata": {},
   "source": [
    "**14. Compiling Artificial Neural Network**"
   ]
  },
  {
   "cell_type": "code",
   "execution_count": 103,
   "metadata": {},
   "outputs": [],
   "source": [
    "ann.compile(optimizer=\"adam\",loss=\"binary_crossentropy\",metrics=['accuracy'])"
   ]
  },
  {
   "cell_type": "markdown",
   "metadata": {},
   "source": [
    "**15.Fitting Artificial Neural Network**"
   ]
  },
  {
   "cell_type": "code",
   "execution_count": 104,
   "metadata": {},
   "outputs": [
    {
     "name": "stdout",
     "output_type": "stream",
     "text": [
      "Epoch 1/100\n",
      "99/99 [==============================] - 2s 3ms/step - loss: 0.6683 - accuracy: 0.6536\n",
      "Epoch 2/100\n",
      "99/99 [==============================] - 0s 3ms/step - loss: 0.4451 - accuracy: 0.8647\n",
      "Epoch 3/100\n",
      "99/99 [==============================] - 0s 3ms/step - loss: 0.3403 - accuracy: 0.8862\n",
      "Epoch 4/100\n",
      "99/99 [==============================] - 0s 3ms/step - loss: 0.3044 - accuracy: 0.8881\n",
      "Epoch 5/100\n",
      "99/99 [==============================] - 0s 3ms/step - loss: 0.2839 - accuracy: 0.8891\n",
      "Epoch 6/100\n",
      "99/99 [==============================] - 0s 3ms/step - loss: 0.2692 - accuracy: 0.8897\n",
      "Epoch 7/100\n",
      "99/99 [==============================] - 0s 3ms/step - loss: 0.2583 - accuracy: 0.8913\n",
      "Epoch 8/100\n",
      "99/99 [==============================] - 0s 3ms/step - loss: 0.2497 - accuracy: 0.8944\n",
      "Epoch 9/100\n",
      "99/99 [==============================] - 0s 3ms/step - loss: 0.2424 - accuracy: 0.8966\n",
      "Epoch 10/100\n",
      "99/99 [==============================] - 0s 3ms/step - loss: 0.2367 - accuracy: 0.8966\n",
      "Epoch 11/100\n",
      "99/99 [==============================] - 0s 3ms/step - loss: 0.2320 - accuracy: 0.8989\n",
      "Epoch 12/100\n",
      "99/99 [==============================] - 0s 3ms/step - loss: 0.2287 - accuracy: 0.8985\n",
      "Epoch 13/100\n",
      "99/99 [==============================] - 0s 3ms/step - loss: 0.2253 - accuracy: 0.9017\n",
      "Epoch 14/100\n",
      "99/99 [==============================] - 0s 3ms/step - loss: 0.2235 - accuracy: 0.9020\n",
      "Epoch 15/100\n",
      "99/99 [==============================] - 0s 3ms/step - loss: 0.2210 - accuracy: 0.9046\n",
      "Epoch 16/100\n",
      "99/99 [==============================] - 0s 4ms/step - loss: 0.2191 - accuracy: 0.9049\n",
      "Epoch 17/100\n",
      "99/99 [==============================] - 0s 4ms/step - loss: 0.2174 - accuracy: 0.9058\n",
      "Epoch 18/100\n",
      "99/99 [==============================] - 0s 4ms/step - loss: 0.2160 - accuracy: 0.9052\n",
      "Epoch 19/100\n",
      "99/99 [==============================] - 0s 4ms/step - loss: 0.2148 - accuracy: 0.9064\n",
      "Epoch 20/100\n",
      "99/99 [==============================] - 0s 4ms/step - loss: 0.2134 - accuracy: 0.9074\n",
      "Epoch 21/100\n",
      "99/99 [==============================] - 0s 3ms/step - loss: 0.2125 - accuracy: 0.9064\n",
      "Epoch 22/100\n",
      "99/99 [==============================] - 0s 4ms/step - loss: 0.2110 - accuracy: 0.9083\n",
      "Epoch 23/100\n",
      "99/99 [==============================] - 0s 3ms/step - loss: 0.2103 - accuracy: 0.9080\n",
      "Epoch 24/100\n",
      "99/99 [==============================] - 0s 4ms/step - loss: 0.2089 - accuracy: 0.9102\n",
      "Epoch 25/100\n",
      "99/99 [==============================] - 0s 3ms/step - loss: 0.2086 - accuracy: 0.9099\n",
      "Epoch 26/100\n",
      "99/99 [==============================] - 0s 4ms/step - loss: 0.2079 - accuracy: 0.9109\n",
      "Epoch 27/100\n",
      "99/99 [==============================] - 0s 4ms/step - loss: 0.2066 - accuracy: 0.9121\n",
      "Epoch 28/100\n",
      "99/99 [==============================] - 0s 4ms/step - loss: 0.2060 - accuracy: 0.9106\n",
      "Epoch 29/100\n",
      "99/99 [==============================] - 0s 3ms/step - loss: 0.2053 - accuracy: 0.9109\n",
      "Epoch 30/100\n",
      "99/99 [==============================] - 0s 3ms/step - loss: 0.2046 - accuracy: 0.9128\n",
      "Epoch 31/100\n",
      "99/99 [==============================] - 0s 4ms/step - loss: 0.2036 - accuracy: 0.9125\n",
      "Epoch 32/100\n",
      "99/99 [==============================] - 0s 3ms/step - loss: 0.2034 - accuracy: 0.9128\n",
      "Epoch 33/100\n",
      "99/99 [==============================] - 0s 4ms/step - loss: 0.2024 - accuracy: 0.9118\n",
      "Epoch 34/100\n",
      "99/99 [==============================] - 0s 4ms/step - loss: 0.2014 - accuracy: 0.9150\n",
      "Epoch 35/100\n",
      "99/99 [==============================] - 0s 3ms/step - loss: 0.2006 - accuracy: 0.9137\n",
      "Epoch 36/100\n",
      "99/99 [==============================] - 0s 4ms/step - loss: 0.2003 - accuracy: 0.9125\n",
      "Epoch 37/100\n",
      "99/99 [==============================] - 0s 4ms/step - loss: 0.1998 - accuracy: 0.9137\n",
      "Epoch 38/100\n",
      "99/99 [==============================] - 0s 4ms/step - loss: 0.1987 - accuracy: 0.9131\n",
      "Epoch 39/100\n",
      "99/99 [==============================] - 0s 4ms/step - loss: 0.1983 - accuracy: 0.9162\n",
      "Epoch 40/100\n",
      "99/99 [==============================] - 0s 4ms/step - loss: 0.1979 - accuracy: 0.9156\n",
      "Epoch 41/100\n",
      "99/99 [==============================] - 0s 4ms/step - loss: 0.1973 - accuracy: 0.9147\n",
      "Epoch 42/100\n",
      "99/99 [==============================] - 0s 4ms/step - loss: 0.1969 - accuracy: 0.9150\n",
      "Epoch 43/100\n",
      "99/99 [==============================] - 0s 3ms/step - loss: 0.1962 - accuracy: 0.9156\n",
      "Epoch 44/100\n",
      "99/99 [==============================] - 0s 4ms/step - loss: 0.1956 - accuracy: 0.9162\n",
      "Epoch 45/100\n",
      "99/99 [==============================] - 0s 3ms/step - loss: 0.1959 - accuracy: 0.9134\n",
      "Epoch 46/100\n",
      "99/99 [==============================] - 0s 4ms/step - loss: 0.1943 - accuracy: 0.9153\n",
      "Epoch 47/100\n",
      "99/99 [==============================] - 0s 4ms/step - loss: 0.1940 - accuracy: 0.9178\n",
      "Epoch 48/100\n",
      "99/99 [==============================] - 0s 4ms/step - loss: 0.1937 - accuracy: 0.9162\n",
      "Epoch 49/100\n",
      "99/99 [==============================] - 0s 4ms/step - loss: 0.1929 - accuracy: 0.9175\n",
      "Epoch 50/100\n",
      "99/99 [==============================] - 0s 3ms/step - loss: 0.1929 - accuracy: 0.9153\n",
      "Epoch 51/100\n",
      "99/99 [==============================] - 0s 3ms/step - loss: 0.1926 - accuracy: 0.9156\n",
      "Epoch 52/100\n",
      "99/99 [==============================] - 0s 4ms/step - loss: 0.1916 - accuracy: 0.9153\n",
      "Epoch 53/100\n",
      "99/99 [==============================] - 0s 3ms/step - loss: 0.1913 - accuracy: 0.9169\n",
      "Epoch 54/100\n",
      "99/99 [==============================] - 0s 3ms/step - loss: 0.1912 - accuracy: 0.9185\n",
      "Epoch 55/100\n",
      "99/99 [==============================] - 0s 3ms/step - loss: 0.1904 - accuracy: 0.9166\n",
      "Epoch 56/100\n",
      "99/99 [==============================] - 0s 4ms/step - loss: 0.1901 - accuracy: 0.9159\n",
      "Epoch 57/100\n",
      "99/99 [==============================] - 0s 4ms/step - loss: 0.1897 - accuracy: 0.9162\n",
      "Epoch 58/100\n",
      "99/99 [==============================] - 0s 4ms/step - loss: 0.1893 - accuracy: 0.9169\n",
      "Epoch 59/100\n",
      "99/99 [==============================] - 0s 3ms/step - loss: 0.1889 - accuracy: 0.9156\n",
      "Epoch 60/100\n",
      "99/99 [==============================] - 0s 4ms/step - loss: 0.1887 - accuracy: 0.9175\n",
      "Epoch 61/100\n",
      "99/99 [==============================] - 0s 4ms/step - loss: 0.1883 - accuracy: 0.9175\n",
      "Epoch 62/100\n",
      "99/99 [==============================] - 0s 4ms/step - loss: 0.1882 - accuracy: 0.9156\n",
      "Epoch 63/100\n",
      "99/99 [==============================] - 0s 3ms/step - loss: 0.1873 - accuracy: 0.9175\n",
      "Epoch 64/100\n",
      "99/99 [==============================] - 0s 4ms/step - loss: 0.1869 - accuracy: 0.9185\n",
      "Epoch 65/100\n",
      "99/99 [==============================] - 0s 3ms/step - loss: 0.1866 - accuracy: 0.9181\n",
      "Epoch 66/100\n",
      "99/99 [==============================] - 0s 3ms/step - loss: 0.1860 - accuracy: 0.9200\n",
      "Epoch 67/100\n",
      "99/99 [==============================] - 0s 3ms/step - loss: 0.1863 - accuracy: 0.9200\n",
      "Epoch 68/100\n",
      "99/99 [==============================] - 0s 3ms/step - loss: 0.1861 - accuracy: 0.9185\n",
      "Epoch 69/100\n",
      "99/99 [==============================] - 0s 3ms/step - loss: 0.1849 - accuracy: 0.9191\n",
      "Epoch 70/100\n",
      "99/99 [==============================] - 0s 3ms/step - loss: 0.1846 - accuracy: 0.9207\n",
      "Epoch 71/100\n",
      "99/99 [==============================] - 0s 3ms/step - loss: 0.1844 - accuracy: 0.9200\n",
      "Epoch 72/100\n",
      "99/99 [==============================] - 0s 4ms/step - loss: 0.1844 - accuracy: 0.9210\n",
      "Epoch 73/100\n",
      "99/99 [==============================] - 0s 4ms/step - loss: 0.1837 - accuracy: 0.9216\n",
      "Epoch 74/100\n",
      "99/99 [==============================] - 0s 3ms/step - loss: 0.1837 - accuracy: 0.9210\n",
      "Epoch 75/100\n",
      "99/99 [==============================] - 0s 3ms/step - loss: 0.1836 - accuracy: 0.9213\n",
      "Epoch 76/100\n",
      "99/99 [==============================] - 0s 4ms/step - loss: 0.1829 - accuracy: 0.9219\n",
      "Epoch 77/100\n",
      "99/99 [==============================] - 0s 3ms/step - loss: 0.1825 - accuracy: 0.9219\n",
      "Epoch 78/100\n",
      "99/99 [==============================] - 0s 3ms/step - loss: 0.1826 - accuracy: 0.9229\n",
      "Epoch 79/100\n",
      "99/99 [==============================] - 0s 3ms/step - loss: 0.1817 - accuracy: 0.9223\n",
      "Epoch 80/100\n",
      "99/99 [==============================] - 0s 3ms/step - loss: 0.1809 - accuracy: 0.9235\n",
      "Epoch 81/100\n",
      "99/99 [==============================] - 0s 3ms/step - loss: 0.1813 - accuracy: 0.9229\n",
      "Epoch 82/100\n",
      "99/99 [==============================] - 0s 4ms/step - loss: 0.1802 - accuracy: 0.9254\n",
      "Epoch 83/100\n",
      "99/99 [==============================] - 0s 3ms/step - loss: 0.1802 - accuracy: 0.9238\n",
      "Epoch 84/100\n",
      "99/99 [==============================] - 0s 3ms/step - loss: 0.1802 - accuracy: 0.9232\n",
      "Epoch 85/100\n",
      "99/99 [==============================] - 0s 3ms/step - loss: 0.1799 - accuracy: 0.9229\n",
      "Epoch 86/100\n",
      "99/99 [==============================] - 0s 4ms/step - loss: 0.1793 - accuracy: 0.9241\n",
      "Epoch 87/100\n",
      "99/99 [==============================] - 0s 4ms/step - loss: 0.1790 - accuracy: 0.9248\n",
      "Epoch 88/100\n",
      "99/99 [==============================] - 0s 3ms/step - loss: 0.1786 - accuracy: 0.9260\n",
      "Epoch 89/100\n",
      "99/99 [==============================] - 0s 3ms/step - loss: 0.1782 - accuracy: 0.9241\n",
      "Epoch 90/100\n",
      "99/99 [==============================] - 0s 4ms/step - loss: 0.1780 - accuracy: 0.9235\n",
      "Epoch 91/100\n",
      "99/99 [==============================] - 0s 3ms/step - loss: 0.1777 - accuracy: 0.9264\n",
      "Epoch 92/100\n",
      "99/99 [==============================] - 0s 4ms/step - loss: 0.1777 - accuracy: 0.9251\n",
      "Epoch 93/100\n",
      "99/99 [==============================] - 0s 4ms/step - loss: 0.1769 - accuracy: 0.9260\n",
      "Epoch 94/100\n",
      "99/99 [==============================] - 0s 4ms/step - loss: 0.1764 - accuracy: 0.9283\n",
      "Epoch 95/100\n",
      "99/99 [==============================] - 0s 4ms/step - loss: 0.1759 - accuracy: 0.9279\n",
      "Epoch 96/100\n",
      "99/99 [==============================] - 0s 4ms/step - loss: 0.1761 - accuracy: 0.9279\n",
      "Epoch 97/100\n",
      "99/99 [==============================] - 0s 4ms/step - loss: 0.1754 - accuracy: 0.9270\n",
      "Epoch 98/100\n",
      "99/99 [==============================] - 0s 4ms/step - loss: 0.1749 - accuracy: 0.9283\n",
      "Epoch 99/100\n",
      "99/99 [==============================] - 0s 3ms/step - loss: 0.1756 - accuracy: 0.9273\n",
      "Epoch 100/100\n",
      "99/99 [==============================] - 0s 3ms/step - loss: 0.1749 - accuracy: 0.9286\n"
     ]
    },
    {
     "data": {
      "text/plain": [
       "<keras.callbacks.History at 0x2a77a5d5430>"
      ]
     },
     "execution_count": 104,
     "metadata": {},
     "output_type": "execute_result"
    }
   ],
   "source": [
    "ann.fit(X_train,Y_train,batch_size=32,epochs=100)"
   ]
  },
  {
   "cell_type": "markdown",
   "metadata": {},
   "source": [
    "**16. Save your created neural network**"
   ]
  },
  {
   "cell_type": "code",
   "execution_count": null,
   "metadata": {},
   "outputs": [],
   "source": [
    "ann.save(\"ANN.h5\")"
   ]
  }
 ],
 "metadata": {
  "kernelspec": {
   "display_name": "Python 3 (ipykernel)",
   "language": "python",
   "name": "python3"
  },
  "language_info": {
   "codemirror_mode": {
    "name": "ipython",
    "version": 3
   },
   "file_extension": ".py",
   "mimetype": "text/x-python",
   "name": "python",
   "nbconvert_exporter": "python",
   "pygments_lexer": "ipython3",
   "version": "3.9.12"
  }
 },
 "nbformat": 4,
 "nbformat_minor": 2
}
